{
 "cells": [
  {
   "cell_type": "markdown",
   "metadata": {},
   "source": [
    "## Artificial Neural Networks"
   ]
  },
  {
   "cell_type": "markdown",
   "metadata": {},
   "source": [
    "#### Table of Contents <a name='top'></a>\n",
    "\n",
    "- [Load Modules and Set Notebook Properties](#modules)\n",
    "- [Define Path and Load Data](#load)\n",
    "- [Inspect Data](#inspect)\n",
    "- [Prepare](#prepare)\n",
    "- [Scale Values](#scale)\n",
    "- [Create Different ANN Models](#create)\n",
    "- [Find the Best Model](#evaluate)\n",
    "- [Evaluate and Choose Models](#evaluate)\n",
    "- [Predict](#predict)\n",
    "- [Prepare Submission](#submit)\n",
    "\n",
    "[go to end](#end)"
   ]
  },
  {
   "cell_type": "markdown",
   "metadata": {},
   "source": [
    "#### Load Modules and Set Notebook Properties <a name='modules'></a>"
   ]
  },
  {
   "cell_type": "code",
   "execution_count": 25,
   "metadata": {},
   "outputs": [],
   "source": [
    "import pandas as pd\n",
    "import numpy as np\n",
    "import matplotlib.pyplot as plt\n",
    "import seaborn as sns\n",
    "import warnings\n",
    "import sys\n",
    "import os"
   ]
  },
  {
   "cell_type": "code",
   "execution_count": 26,
   "metadata": {},
   "outputs": [],
   "source": [
    "from sklearn.metrics import roc_auc_score\n",
    "from sklearn.model_selection import train_test_split\n",
    "from sklearn.preprocessing import StandardScaler, StandardScaler, MinMaxScaler, Normalizer"
   ]
  },
  {
   "cell_type": "code",
   "execution_count": 27,
   "metadata": {},
   "outputs": [],
   "source": [
    "from keras.models import Sequential\n",
    "from keras.layers import Dense"
   ]
  },
  {
   "cell_type": "code",
   "execution_count": 28,
   "metadata": {},
   "outputs": [],
   "source": [
    "warnings.filterwarnings('ignore')\n",
    "pd.options.display.max_columns = None\n",
    "sns.set_style(\"darkgrid\")"
   ]
  },
  {
   "cell_type": "markdown",
   "metadata": {},
   "source": [
    "#### Define Path and Load Data  <a name='load'></a> "
   ]
  },
  {
   "cell_type": "code",
   "execution_count": 29,
   "metadata": {},
   "outputs": [],
   "source": [
    "INPUT_PATH = 'raw_data_source'\n",
    "OUTPUT_PATH = 'outputs'"
   ]
  },
  {
   "cell_type": "code",
   "execution_count": 30,
   "metadata": {},
   "outputs": [],
   "source": [
    "training_set_features = pd.read_csv(os.path.join(INPUT_PATH, 'covid_training_set_features.csv'))\n",
    "training_set_labels = pd.read_csv(os.path.join(INPUT_PATH, 'covid_training_set_labels.csv'))\n",
    "test_set_features = pd.read_csv(os.path.join(INPUT_PATH, 'covid_test_set_features.csv'))"
   ]
  },
  {
   "cell_type": "markdown",
   "metadata": {},
   "source": [
    "#### Inspect Data <a name='inspect'></a> "
   ]
  },
  {
   "cell_type": "markdown",
   "metadata": {},
   "source": [
    "##### Background <a name=\"databackground\"></a>\n",
    "\n",
    "In this exercise, we will take a look at vaccination, a key public health measure used to fight infectious diseases. Vaccines provide immunization for individuals, and enough immunization in a community can further reduce the spread of diseases through \"herd immunity\".\n",
    "\n",
    "A phone survey asked respondents whether they had received the H1N1 and seasonal flu vaccines, in conjunction with questions about themselves. These additional questions covered their social, economic, and demographic background, opinions on risks of illness and vaccine effectiveness, and behaviors towards mitigating transmission. A better understanding of how these characteristics are associated with personal vaccination patterns can provide guidance for future public health efforts.\n",
    "\n",
    "The goal is to predict how likely individuals are to receive their H1N1 and seasonal flu vaccines. Specifically, we will be predicting two probabilities: one for h1n1_vaccine and one for seasonal_vaccine. Each row in the dataset represents one person who responded to the National 2009 H1N1 Flu Survey.\n",
    "\n",
    "The dataset is taken from the competetion page in [DrivenData](https://www.drivendata.org/competitions/66/flu-shot-learning/page/210/)."
   ]
  },
  {
   "cell_type": "markdown",
   "metadata": {},
   "source": [
    "#### Prepare Data <a name=\"dataprep\"></a>\n",
    "\n",
    "[back to top](#toc)"
   ]
  },
  {
   "cell_type": "code",
   "execution_count": 31,
   "metadata": {},
   "outputs": [],
   "source": [
    "def process_features(df):\n",
    "    \n",
    "    cols_to_process =  ['h1n1_concern', 'h1n1_knowledge',\n",
    "                        'opinion_h1n1_vacc_effective', 'opinion_h1n1_risk',\n",
    "                        'opinion_h1n1_sick_from_vacc', 'opinion_seas_vacc_effective',\n",
    "                        'opinion_seas_risk', 'opinion_seas_sick_from_vacc', 'age_group',\n",
    "                        'education', 'race', 'sex', 'income_poverty', 'marital_status',\n",
    "                        'rent_or_own', 'employment_status', 'hhs_geo_region', 'census_msa',\n",
    "                        'household_adults', 'household_children', 'employment_industry',\n",
    "                        'employment_occupation']\n",
    "    \n",
    "    for i in cols_to_process:\n",
    "        df[i] = [f'{i}_' + str(x)  for x in df[i]]\n",
    "        \n",
    "    concat_list = []\n",
    "    for i in cols_to_process:\n",
    "        concat_list.append(pd.get_dummies(df[i]))\n",
    "        \n",
    "    one_hot_encoded = pd.concat(concat_list, axis=1)\n",
    "    df = df.drop(columns=cols_to_process)\n",
    "    df_concatenated = pd.concat([df, one_hot_encoded], axis=1)\n",
    "        \n",
    "    return df_concatenated"
   ]
  },
  {
   "cell_type": "code",
   "execution_count": 32,
   "metadata": {},
   "outputs": [],
   "source": [
    "X = process_features(training_set_features).iloc[:,1:].fillna(0)\n",
    "X_test = process_features(test_set_features).iloc[:,1:].fillna(0)\n",
    "y_h1n1 = training_set_labels['h1n1_vaccine']\n",
    "y_seasonal = training_set_labels['seasonal_vaccine']"
   ]
  },
  {
   "cell_type": "code",
   "execution_count": 33,
   "metadata": {},
   "outputs": [
    {
     "data": {
      "text/plain": [
       "((26707, 157), (26708, 157))"
      ]
     },
     "execution_count": 33,
     "metadata": {},
     "output_type": "execute_result"
    }
   ],
   "source": [
    "X.shape, X_test.shape"
   ]
  },
  {
   "cell_type": "markdown",
   "metadata": {},
   "source": [
    "#### Scale Values <a name='scale'></a> \n"
   ]
  },
  {
   "cell_type": "markdown",
   "metadata": {},
   "source": [
    "Insert explanation on why the fitting of the scaler should only be done on the training set. "
   ]
  },
  {
   "cell_type": "code",
   "execution_count": 34,
   "metadata": {},
   "outputs": [],
   "source": [
    "def scale_values(X_train, X_test, scaler='standard'):\n",
    "    \n",
    "    scaler_dict = {'standard': StandardScaler(), \n",
    "                    'minmax': MinMaxScaler(), \n",
    "                    'normal': Normalizer()}\n",
    "    if scaler is None:\n",
    "        return X_train, X_test\n",
    "    elif scaler not in scaler_dict.keys():\n",
    "        raise ValueError(\"Enter a valid value for scaler! Choose between 'standard', 'minmax', 'normal' or None.\")\n",
    "    else:\n",
    "        scl = scaler_dict[scaler]\n",
    "        X_train = scl.fit_transform(X_train)\n",
    "        X_test = scl.transform(X_test) \n",
    "        return X_train, X_test"
   ]
  },
  {
   "cell_type": "markdown",
   "metadata": {},
   "source": [
    "#### Create Different ANN Models <a name='create'></a> \n",
    "\n",
    "[back to top](#toc)"
   ]
  },
  {
   "cell_type": "code",
   "execution_count": 35,
   "metadata": {},
   "outputs": [],
   "source": [
    "def simple_ann(X_train, y_train, epochs, batch_size, verbose):\n",
    "    \n",
    "    input_dim = X_train.shape[1]\n",
    "    model = Sequential()\n",
    "    model.add(Dense(25, input_dim=input_dim, activation='relu'))\n",
    "    model.add(Dense(10, activation='relu'))\n",
    "    model.add(Dense(1, activation='sigmoid'))\n",
    "    model.compile(loss='binary_crossentropy', optimizer='adam', metrics=['accuracy'])\n",
    "    model.fit(X_train, y_train, epochs=epochs, batch_size=batch_size, verbose=verbose)\n",
    "    \n",
    "    return model"
   ]
  },
  {
   "cell_type": "code",
   "execution_count": 36,
   "metadata": {},
   "outputs": [],
   "source": [
    "def deeper_ann(X_train, y_train, epochs, batch_size, verbose):\n",
    "    \n",
    "    input_dim = X_train.shape[1]\n",
    "    model = Sequential()\n",
    "    model.add(Dense(25, input_dim=input_dim, activation='relu'))\n",
    "    model.add(Dense(10, activation='relu'))\n",
    "    model.add(Dense(10, activation='relu'))\n",
    "    model.add(Dense(10, activation='relu'))\n",
    "    model.add(Dense(10, activation='relu'))\n",
    "    model.add(Dense(1, activation='sigmoid'))\n",
    "    model.compile(loss='binary_crossentropy', optimizer='adam', metrics=['accuracy'])\n",
    "    model.fit(X_train, y_train, epochs=epochs, batch_size=batch_size, verbose=verbose)\n",
    "    \n",
    "    return model"
   ]
  },
  {
   "cell_type": "code",
   "execution_count": 37,
   "metadata": {},
   "outputs": [],
   "source": [
    "def wider_ann(X_train, y_train, epochs, batch_size, verbose):\n",
    "    \n",
    "    input_dim = X_train.shape[1]\n",
    "    model = Sequential()\n",
    "    model.add(Dense(100, input_dim=input_dim, activation='relu'))\n",
    "    model.add(Dense(50, activation='relu'))\n",
    "    model.add(Dense(1, activation='sigmoid'))\n",
    "    model.compile(loss='binary_crossentropy', optimizer='adam', metrics=['accuracy'])\n",
    "    model.fit(X_train, y_train, epochs=epochs, batch_size=batch_size, verbose=verbose)\n",
    "    \n",
    "    return model"
   ]
  },
  {
   "cell_type": "code",
   "execution_count": 38,
   "metadata": {},
   "outputs": [],
   "source": [
    "def wider_and_deeper_ann(X_train, y_train, epochs, batch_size, verbose):\n",
    "    \n",
    "    input_dim = X_train.shape[1]\n",
    "    model = Sequential()\n",
    "    model.add(Dense(100, input_dim=input_dim, activation='relu'))\n",
    "    model.add(Dense(50, activation='relu'))\n",
    "    model.add(Dense(1, activation='sigmoid'))\n",
    "    model.compile(loss='binary_crossentropy', optimizer='adam', metrics=['accuracy'])\n",
    "    model.fit(X_train, y_train, epochs=epochs, batch_size=batch_size, verbose=verbose)\n",
    "    \n",
    "    return model"
   ]
  },
  {
   "cell_type": "code",
   "execution_count": 39,
   "metadata": {},
   "outputs": [],
   "source": [
    "def model_wrapper(X, y, model, test_size=0.3, scaler=None, epochs=5, batch_size=10, verbose=1):\n",
    "    \n",
    "    X_train, X_test, y_train, y_test = train_test_split(X, y, test_size=test_size, random_state=109) # split\n",
    "    X_train_, X_test_ = scale_values(X_train, X_test, scaler=scaler)  # scale\n",
    "    trained_model_h1n1 = model(X_train_, y_train, epochs, batch_size, verbose)  # train\n",
    "    probability = trained_model_h1n1.predict_proba(X_test_)  # predict and get probability score\n",
    "    \n",
    "    return roc_auc_score(y_test, probability.flatten())"
   ]
  },
  {
   "cell_type": "markdown",
   "metadata": {},
   "source": [
    "#### Find the Best Model <a name='find'></a> \n",
    "\n",
    "[back to top](#toc)"
   ]
  },
  {
   "cell_type": "code",
   "execution_count": 40,
   "metadata": {
    "collapsed": true,
    "jupyter": {
     "outputs_hidden": true
    }
   },
   "outputs": [
    {
     "name": "stdout",
     "output_type": "stream",
     "text": [
      "Epoch 1/10\n",
      "18694/18694 [==============================] - 3s 159us/step - loss: 0.3984 - accuracy: 0.8317\n",
      "Epoch 2/10\n",
      "18694/18694 [==============================] - 3s 153us/step - loss: 0.3501 - accuracy: 0.8534\n",
      "Epoch 3/10\n",
      "18694/18694 [==============================] - 3s 154us/step - loss: 0.3360 - accuracy: 0.8598\n",
      "Epoch 4/10\n",
      "18694/18694 [==============================] - 3s 159us/step - loss: 0.3255 - accuracy: 0.8641\n",
      "Epoch 5/10\n",
      "18694/18694 [==============================] - 3s 150us/step - loss: 0.3163 - accuracy: 0.8687\n",
      "Epoch 6/10\n",
      "18694/18694 [==============================] - 3s 137us/step - loss: 0.3083 - accuracy: 0.8703\n",
      "Epoch 7/10\n",
      "18694/18694 [==============================] - 3s 134us/step - loss: 0.3015 - accuracy: 0.8735\n",
      "Epoch 8/10\n",
      "18694/18694 [==============================] - 3s 135us/step - loss: 0.2941 - accuracy: 0.8766\n",
      "Epoch 9/10\n",
      "18694/18694 [==============================] - 3s 134us/step - loss: 0.2880 - accuracy: 0.8801\n",
      "Epoch 10/10\n",
      "18694/18694 [==============================] - 2s 133us/step - loss: 0.2817 - accuracy: 0.8820\n",
      "Epoch 1/10\n",
      "18694/18694 [==============================] - 3s 171us/step - loss: 0.4008 - accuracy: 0.8294\n",
      "Epoch 2/10\n",
      "18694/18694 [==============================] - 3s 159us/step - loss: 0.3520 - accuracy: 0.8542\n",
      "Epoch 3/10\n",
      "18694/18694 [==============================] - 3s 160us/step - loss: 0.3385 - accuracy: 0.8613\n",
      "Epoch 4/10\n",
      "18694/18694 [==============================] - 3s 176us/step - loss: 0.3298 - accuracy: 0.8667\n",
      "Epoch 5/10\n",
      "18694/18694 [==============================] - 3s 170us/step - loss: 0.3220 - accuracy: 0.8662\n",
      "Epoch 6/10\n",
      "18694/18694 [==============================] - 3s 169us/step - loss: 0.3160 - accuracy: 0.8704\n",
      "Epoch 7/10\n",
      "18694/18694 [==============================] - 3s 164us/step - loss: 0.3087 - accuracy: 0.8742\n",
      "Epoch 8/10\n",
      "18694/18694 [==============================] - 3s 166us/step - loss: 0.3019 - accuracy: 0.8783\n",
      "Epoch 9/10\n",
      "18694/18694 [==============================] - 3s 164us/step - loss: 0.2957 - accuracy: 0.8809\n",
      "Epoch 10/10\n",
      "18694/18694 [==============================] - 3s 163us/step - loss: 0.2894 - accuracy: 0.8840\n",
      "Epoch 1/10\n",
      "18694/18694 [==============================] - 3s 170us/step - loss: 0.3832 - accuracy: 0.8404\n",
      "Epoch 2/10\n",
      "18694/18694 [==============================] - 3s 164us/step - loss: 0.3410 - accuracy: 0.8585\n",
      "Epoch 3/10\n",
      "18694/18694 [==============================] - 3s 165us/step - loss: 0.3211 - accuracy: 0.8676\n",
      "Epoch 4/10\n",
      "18694/18694 [==============================] - 3s 163us/step - loss: 0.3019 - accuracy: 0.8767\n",
      "Epoch 5/10\n",
      "18694/18694 [==============================] - 3s 159us/step - loss: 0.2767 - accuracy: 0.8877\n",
      "Epoch 6/10\n",
      "18694/18694 [==============================] - 3s 160us/step - loss: 0.2509 - accuracy: 0.8985\n",
      "Epoch 7/10\n",
      "18694/18694 [==============================] - 3s 160us/step - loss: 0.2261 - accuracy: 0.9103\n",
      "Epoch 8/10\n",
      "18694/18694 [==============================] - 3s 157us/step - loss: 0.1997 - accuracy: 0.9209\n",
      "Epoch 9/10\n",
      "18694/18694 [==============================] - 3s 161us/step - loss: 0.1771 - accuracy: 0.9324\n",
      "Epoch 10/10\n",
      "18694/18694 [==============================] - 3s 158us/step - loss: 0.1528 - accuracy: 0.9408\n",
      "Epoch 1/10\n",
      "18694/18694 [==============================] - 3s 175us/step - loss: 0.3863 - accuracy: 0.8360\n",
      "Epoch 2/10\n",
      "18694/18694 [==============================] - 3s 165us/step - loss: 0.3403 - accuracy: 0.8592\n",
      "Epoch 3/10\n",
      "18694/18694 [==============================] - 3s 165us/step - loss: 0.3216 - accuracy: 0.8666\n",
      "Epoch 4/10\n",
      "18694/18694 [==============================] - 3s 165us/step - loss: 0.3008 - accuracy: 0.8773\n",
      "Epoch 5/10\n",
      "18694/18694 [==============================] - 3s 164us/step - loss: 0.2803 - accuracy: 0.8876\n",
      "Epoch 6/10\n",
      "18694/18694 [==============================] - 3s 165us/step - loss: 0.2546 - accuracy: 0.8971\n",
      "Epoch 7/10\n",
      "18694/18694 [==============================] - 3s 164us/step - loss: 0.2287 - accuracy: 0.9094\n",
      "Epoch 8/10\n",
      "18694/18694 [==============================] - 3s 159us/step - loss: 0.2026 - accuracy: 0.9198\n",
      "Epoch 9/10\n",
      "18694/18694 [==============================] - 3s 163us/step - loss: 0.1800 - accuracy: 0.9285\n",
      "Epoch 10/10\n",
      "18694/18694 [==============================] - 3s 161us/step - loss: 0.1563 - accuracy: 0.9398\n",
      "Epoch 1/10\n",
      "18694/18694 [==============================] - 3s 171us/step - loss: 0.5187 - accuracy: 0.7494\n",
      "Epoch 2/10\n",
      "18694/18694 [==============================] - 3s 172us/step - loss: 0.4668 - accuracy: 0.7827\n",
      "Epoch 3/10\n",
      "18694/18694 [==============================] - 3s 151us/step - loss: 0.4532 - accuracy: 0.7903\n",
      "Epoch 4/10\n",
      "18694/18694 [==============================] - 3s 150us/step - loss: 0.4426 - accuracy: 0.7978\n",
      "Epoch 5/10\n",
      "18694/18694 [==============================] - 3s 170us/step - loss: 0.4341 - accuracy: 0.8025\n",
      "Epoch 6/10\n",
      "18694/18694 [==============================] - 3s 160us/step - loss: 0.4259 - accuracy: 0.8058\n",
      "Epoch 7/10\n",
      "18694/18694 [==============================] - 3s 179us/step - loss: 0.4185 - accuracy: 0.8092\n",
      "Epoch 8/10\n",
      "18694/18694 [==============================] - 3s 168us/step - loss: 0.4116 - accuracy: 0.8148\n",
      "Epoch 9/10\n",
      "18694/18694 [==============================] - 3s 172us/step - loss: 0.4048 - accuracy: 0.8190\n",
      "Epoch 10/10\n",
      "18694/18694 [==============================] - 3s 167us/step - loss: 0.3999 - accuracy: 0.8207\n",
      "Epoch 1/10\n",
      "18694/18694 [==============================] - 4s 222us/step - loss: 0.5270 - accuracy: 0.7374\n",
      "Epoch 2/10\n",
      "18694/18694 [==============================] - 4s 206us/step - loss: 0.4697 - accuracy: 0.7844\n",
      "Epoch 3/10\n",
      "18694/18694 [==============================] - 4s 197us/step - loss: 0.4568 - accuracy: 0.7911\n",
      "Epoch 4/10\n",
      "18694/18694 [==============================] - 4s 191us/step - loss: 0.4472 - accuracy: 0.7980\n",
      "Epoch 5/10\n",
      "18694/18694 [==============================] - 4s 197us/step - loss: 0.4394 - accuracy: 0.8006\n",
      "Epoch 6/10\n",
      "18694/18694 [==============================] - 4s 213us/step - loss: 0.4327 - accuracy: 0.8083\n",
      "Epoch 7/10\n",
      "18694/18694 [==============================] - 4s 193us/step - loss: 0.4256 - accuracy: 0.8118\n",
      "Epoch 8/10\n",
      "18694/18694 [==============================] - 4s 215us/step - loss: 0.4190 - accuracy: 0.8163\n",
      "Epoch 9/10\n",
      "18694/18694 [==============================] - 4s 197us/step - loss: 0.4120 - accuracy: 0.8213\n",
      "Epoch 10/10\n",
      "18694/18694 [==============================] - 4s 198us/step - loss: 0.4045 - accuracy: 0.8247\n",
      "Epoch 1/10\n",
      "18694/18694 [==============================] - 4s 219us/step - loss: 0.4991 - accuracy: 0.7651\n",
      "Epoch 2/10\n",
      "18694/18694 [==============================] - 4s 193us/step - loss: 0.4546 - accuracy: 0.7890\n",
      "Epoch 3/10\n",
      "18694/18694 [==============================] - 5s 247us/step - loss: 0.4343 - accuracy: 0.8014\n",
      "Epoch 4/10\n",
      "18694/18694 [==============================] - 4s 230us/step - loss: 0.4121 - accuracy: 0.8123\n",
      "Epoch 5/10\n",
      "18694/18694 [==============================] - 3s 186us/step - loss: 0.3859 - accuracy: 0.8302\n",
      "Epoch 6/10\n",
      "18694/18694 [==============================] - 3s 172us/step - loss: 0.3599 - accuracy: 0.8429\n",
      "Epoch 7/10\n",
      "18694/18694 [==============================] - 3s 185us/step - loss: 0.3316 - accuracy: 0.8567\n",
      "Epoch 8/10\n",
      "18694/18694 [==============================] - 3s 171us/step - loss: 0.3014 - accuracy: 0.8709\n",
      "Epoch 9/10\n",
      "18694/18694 [==============================] - 4s 215us/step - loss: 0.2741 - accuracy: 0.8835\n",
      "Epoch 10/10\n",
      "18694/18694 [==============================] - 4s 213us/step - loss: 0.2471 - accuracy: 0.8974\n",
      "Epoch 1/10\n",
      "18694/18694 [==============================] - 3s 186us/step - loss: 0.5006 - accuracy: 0.7616\n",
      "Epoch 2/10\n",
      "18694/18694 [==============================] - 4s 222us/step - loss: 0.4579 - accuracy: 0.7887\n",
      "Epoch 3/10\n",
      "18694/18694 [==============================] - 5s 251us/step - loss: 0.4375 - accuracy: 0.8000\n",
      "Epoch 4/10\n",
      "18694/18694 [==============================] - 5s 247us/step - loss: 0.4167 - accuracy: 0.8114\n",
      "Epoch 5/10\n",
      "18694/18694 [==============================] - 5s 257us/step - loss: 0.3924 - accuracy: 0.8263\n",
      "Epoch 6/10\n",
      "18694/18694 [==============================] - 3s 183us/step - loss: 0.3673 - accuracy: 0.8364\n",
      "Epoch 7/10\n",
      "18694/18694 [==============================] - 4s 237us/step - loss: 0.3391 - accuracy: 0.8516\n",
      "Epoch 8/10\n",
      "18694/18694 [==============================] - 4s 231us/step - loss: 0.3152 - accuracy: 0.8639\n",
      "Epoch 9/10\n",
      "18694/18694 [==============================] - 4s 235us/step - loss: 0.2865 - accuracy: 0.8781\n",
      "Epoch 10/10\n",
      "18694/18694 [==============================] - 4s 202us/step - loss: 0.2604 - accuracy: 0.8884\n"
     ]
    }
   ],
   "source": [
    "models = [simple_ann, deeper_ann, wider_ann, wider_and_deeper_ann]\n",
    "y_values = [y_h1n1, y_seasonal]\n",
    "results_dict = {}\n",
    "\n",
    "for y in y_values:\n",
    "    for model in models:\n",
    "        auc_score = model_wrapper(X, y, model, test_size=0.3, scaler='standard', epochs=10)\n",
    "        results_dict[f'{y.name} {model.__name__}'] = auc_score"
   ]
  },
  {
   "cell_type": "markdown",
   "metadata": {},
   "source": [
    "#### Evaluate and Choose Models <a name='evaluate'></a> "
   ]
  },
  {
   "cell_type": "code",
   "execution_count": 41,
   "metadata": {},
   "outputs": [
    {
     "data": {
      "text/html": [
       "<div>\n",
       "<style scoped>\n",
       "    .dataframe tbody tr th:only-of-type {\n",
       "        vertical-align: middle;\n",
       "    }\n",
       "\n",
       "    .dataframe tbody tr th {\n",
       "        vertical-align: top;\n",
       "    }\n",
       "\n",
       "    .dataframe thead th {\n",
       "        text-align: right;\n",
       "    }\n",
       "</style>\n",
       "<table border=\"1\" class=\"dataframe\">\n",
       "  <thead>\n",
       "    <tr style=\"text-align: right;\">\n",
       "      <th>model</th>\n",
       "      <th>deeper_ann</th>\n",
       "      <th>simple_ann</th>\n",
       "      <th>wider_and_deeper_ann</th>\n",
       "      <th>wider_ann</th>\n",
       "    </tr>\n",
       "    <tr>\n",
       "      <th>variable</th>\n",
       "      <th></th>\n",
       "      <th></th>\n",
       "      <th></th>\n",
       "      <th></th>\n",
       "    </tr>\n",
       "  </thead>\n",
       "  <tbody>\n",
       "    <tr>\n",
       "      <th>h1n1_vaccine</th>\n",
       "      <td>0.851871</td>\n",
       "      <td>0.846405</td>\n",
       "      <td>0.817694</td>\n",
       "      <td>0.807288</td>\n",
       "    </tr>\n",
       "    <tr>\n",
       "      <th>seasonal_vaccine</th>\n",
       "      <td>0.845254</td>\n",
       "      <td>0.847928</td>\n",
       "      <td>0.818551</td>\n",
       "      <td>0.810964</td>\n",
       "    </tr>\n",
       "  </tbody>\n",
       "</table>\n",
       "</div>"
      ],
      "text/plain": [
       "model             deeper_ann  simple_ann  wider_and_deeper_ann  wider_ann\n",
       "variable                                                                 \n",
       "h1n1_vaccine        0.851871    0.846405              0.817694   0.807288\n",
       "seasonal_vaccine    0.845254    0.847928              0.818551   0.810964"
      ]
     },
     "execution_count": 41,
     "metadata": {},
     "output_type": "execute_result"
    }
   ],
   "source": [
    "result_df = pd.DataFrame.from_dict(results_dict, orient='index').reset_index()\n",
    "result_df.columns = ['index', 'auc_score']\n",
    "result_df['variable'] = [x.split(' ')[0] for x in result_df['index']]\n",
    "result_df['model'] = [x.split(' ')[1] for x in result_df['index']]\n",
    "result_df[['variable', 'model', 'auc_score']].pivot(index='variable', columns='model', values='auc_score')"
   ]
  },
  {
   "cell_type": "markdown",
   "metadata": {},
   "source": [
    "- For `h1n1_vaccine` use `deeper_ann`\n",
    "- For `seasonal_vaccine` use `simple_ann`"
   ]
  },
  {
   "cell_type": "markdown",
   "metadata": {},
   "source": [
    "#### Predict <a name='predict'></a> "
   ]
  },
  {
   "cell_type": "code",
   "execution_count": 54,
   "metadata": {},
   "outputs": [
    {
     "name": "stdout",
     "output_type": "stream",
     "text": [
      "Epoch 1/10\n",
      "26707/26707 [==============================] - 7s 269us/step - loss: 0.4904 - accuracy: 0.7658\n",
      "Epoch 2/10\n",
      "26707/26707 [==============================] - 7s 258us/step - loss: 0.4654 - accuracy: 0.7840\n",
      "Epoch 3/10\n",
      "26707/26707 [==============================] - 7s 268us/step - loss: 0.4599 - accuracy: 0.7863\n",
      "Epoch 4/10\n",
      "26707/26707 [==============================] - 7s 264us/step - loss: 0.4546 - accuracy: 0.7896\n",
      "Epoch 5/10\n",
      "26707/26707 [==============================] - 7s 267us/step - loss: 0.4492 - accuracy: 0.7941\n",
      "Epoch 6/10\n",
      "26707/26707 [==============================] - 7s 253us/step - loss: 0.4442 - accuracy: 0.7969\n",
      "Epoch 7/10\n",
      "26707/26707 [==============================] - 6s 238us/step - loss: 0.4390 - accuracy: 0.7986\n",
      "Epoch 8/10\n",
      "26707/26707 [==============================] - 7s 256us/step - loss: 0.4345 - accuracy: 0.8020\n",
      "Epoch 9/10\n",
      "26707/26707 [==============================] - 7s 256us/step - loss: 0.4305 - accuracy: 0.8043\n",
      "Epoch 10/10\n",
      "26707/26707 [==============================] - 7s 258us/step - loss: 0.4272 - accuracy: 0.8062\n"
     ]
    }
   ],
   "source": [
    "X_train_, X_test_ = scale_values(X, X_test, scaler=None)\n",
    "seasonal_model = deeper_ann(X_train_, y_seasonal, epochs=10, batch_size=10, verbose=1)"
   ]
  },
  {
   "cell_type": "code",
   "execution_count": 55,
   "metadata": {},
   "outputs": [],
   "source": [
    "probability_seasonal = seasonal_model.predict(X_test).flatten()"
   ]
  },
  {
   "cell_type": "code",
   "execution_count": 56,
   "metadata": {},
   "outputs": [
    {
     "name": "stdout",
     "output_type": "stream",
     "text": [
      "Epoch 1/10\n",
      "26707/26707 [==============================] - 7s 267us/step - loss: 0.3799 - accuracy: 0.8411\n",
      "Epoch 2/10\n",
      "26707/26707 [==============================] - 7s 280us/step - loss: 0.3538 - accuracy: 0.8529\n",
      "Epoch 3/10\n",
      "26707/26707 [==============================] - 7s 270us/step - loss: 0.3472 - accuracy: 0.8547\n",
      "Epoch 4/10\n",
      "26707/26707 [==============================] - 7s 263us/step - loss: 0.3416 - accuracy: 0.8576\n",
      "Epoch 5/10\n",
      "26707/26707 [==============================] - 7s 263us/step - loss: 0.3373 - accuracy: 0.8603\n",
      "Epoch 6/10\n",
      "26707/26707 [==============================] - 8s 284us/step - loss: 0.3332 - accuracy: 0.8626\n",
      "Epoch 7/10\n",
      "26707/26707 [==============================] - 8s 284us/step - loss: 0.3293 - accuracy: 0.8643\n",
      "Epoch 8/10\n",
      "26707/26707 [==============================] - 8s 289us/step - loss: 0.3260 - accuracy: 0.8664\n",
      "Epoch 9/10\n",
      "26707/26707 [==============================] - 7s 274us/step - loss: 0.3220 - accuracy: 0.8676\n",
      "Epoch 10/10\n",
      "26707/26707 [==============================] - 7s 263us/step - loss: 0.3187 - accuracy: 0.8687\n"
     ]
    }
   ],
   "source": [
    "X_train_, X_test_ = scale_values(X, X_test, scaler=None)\n",
    "h1n1_model = deeper_ann(X_train_, y_h1n1, epochs=10, batch_size=10, verbose=1)"
   ]
  },
  {
   "cell_type": "code",
   "execution_count": 57,
   "metadata": {},
   "outputs": [],
   "source": [
    "probability_h1n1 = h1n1_model.predict(X_test).flatten()"
   ]
  },
  {
   "cell_type": "code",
   "execution_count": 60,
   "metadata": {},
   "outputs": [
    {
     "data": {
      "text/plain": [
       "array([0.08688167, 0.04430285, 0.06147888, ..., 0.09231937, 0.01936588,\n",
       "       0.73324114], dtype=float32)"
      ]
     },
     "execution_count": 60,
     "metadata": {},
     "output_type": "execute_result"
    }
   ],
   "source": [
    "probability_h1n1"
   ]
  },
  {
   "cell_type": "markdown",
   "metadata": {},
   "source": [
    "#### Prepare Submission <a name='submit'></a> "
   ]
  },
  {
   "cell_type": "code",
   "execution_count": 58,
   "metadata": {},
   "outputs": [],
   "source": [
    "submission = pd.DataFrame()\n",
    "submission['respondent_id'] = test_set_features['respondent_id']\n",
    "submission['h1n1_vaccine'] = probability_h1n1\n",
    "submission['seasonal_vaccine'] = probability_seasonal"
   ]
  },
  {
   "cell_type": "code",
   "execution_count": 59,
   "metadata": {},
   "outputs": [],
   "source": [
    "outpath = os.path.join(OUTPUT_PATH, 'sub3.csv')\n",
    "submission.to_csv(outpath, index=False)"
   ]
  },
  {
   "cell_type": "markdown",
   "metadata": {},
   "source": [
    "--end--\n",
    "<a name=\"bottom\"></a>"
   ]
  }
 ],
 "metadata": {
  "kernelspec": {
   "display_name": "Python 3",
   "language": "python",
   "name": "python3"
  },
  "language_info": {
   "codemirror_mode": {
    "name": "ipython",
    "version": 3
   },
   "file_extension": ".py",
   "mimetype": "text/x-python",
   "name": "python",
   "nbconvert_exporter": "python",
   "pygments_lexer": "ipython3",
   "version": "3.6.12"
  }
 },
 "nbformat": 4,
 "nbformat_minor": 5
}
